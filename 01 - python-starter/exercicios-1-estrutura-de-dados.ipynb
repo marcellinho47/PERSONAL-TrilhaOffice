{
 "cells": [
  {
   "cell_type": "markdown",
   "metadata": {},
   "source": [
    "<img src=\"https://asimov.academy/wp-content/uploads/2021/01/logo.png\" width=\"200\"/>\n",
    "_____________________________________________\n",
    "\n",
    "## Exercícios #1 - Estruturas de dados\n"
   ]
  },
  {
   "cell_type": "markdown",
   "metadata": {},
   "source": [
    "### Exercício 1\n",
    "Utilizando o built-in method input(), crie um programa que receba a altura e o peso de uma pessoa e imprima na tela o IMC da mesma."
   ]
  },
  {
   "cell_type": "code",
   "outputs": [
    {
     "name": "stdout",
     "output_type": "stream",
     "text": [
      "Digite seu peso em KG: \n",
      "Digite sua altura em M: \n",
      "Seu IMC é: 27.78\n"
     ]
    }
   ],
   "source": [
    "print(\"Digite seu peso em KG: \")\n",
    "peso = float(input())\n",
    "print(\"Digite sua altura em M: \")\n",
    "altura = float(input())\n",
    "\n",
    "imc = peso / altura ** 2\n",
    "\n",
    "print(\"Seu IMC é: {:.2f}\".format(imc))"
   ],
   "metadata": {
    "collapsed": false,
    "ExecuteTime": {
     "end_time": "2024-01-17T17:03:14.515465700Z",
     "start_time": "2024-01-17T17:03:02.564343200Z"
    }
   },
   "execution_count": 1
  },
  {
   "cell_type": "markdown",
   "metadata": {},
   "source": [
    "### Exercício 2 \n",
    "Escreva um programa que pergunte o nome completo do usuário e cumprimente o mesmo pelo primeiro nome."
   ]
  },
  {
   "cell_type": "code",
   "execution_count": 2,
   "metadata": {
    "ExecuteTime": {
     "end_time": "2024-01-17T17:04:50.681681400Z",
     "start_time": "2024-01-17T17:04:47.291230800Z"
    }
   },
   "outputs": [
    {
     "name": "stdout",
     "output_type": "stream",
     "text": [
      "Digite o seu nome completo: \n",
      "Olá, Marcello!\n"
     ]
    }
   ],
   "source": [
    "print(\"Digite o seu nome completo: \")\n",
    "nome = input()\n",
    "primeiro_nome = nome.split()[0]\n",
    "print(\"Olá, {}!\".format(primeiro_nome))"
   ]
  },
  {
   "cell_type": "markdown",
   "metadata": {},
   "source": [
    "### Exercício 3\n",
    "Desenho um código que extraia o domínio de um e-mail informado."
   ]
  },
  {
   "cell_type": "code",
   "execution_count": 5,
   "metadata": {
    "ExecuteTime": {
     "end_time": "2024-01-17T17:06:19.041225500Z",
     "start_time": "2024-01-17T17:06:12.309192100Z"
    }
   },
   "outputs": [
    {
     "name": "stdout",
     "output_type": "stream",
     "text": [
      "Digite o seu e-mail: \n",
      "O seu domínio é: lg.com.br!\n"
     ]
    }
   ],
   "source": [
    "print(\"Digite o seu e-mail: \")\n",
    "email = input()\n",
    "dominio = email.split(\"@\")[1]\n",
    "print(\"O seu domínio é: {}!\".format(dominio))"
   ]
  },
  {
   "cell_type": "markdown",
   "metadata": {},
   "source": [
    "### Exercício 4 \n",
    "Faça um programa para uma loja de tintas. A pessoa informa a área em m2 que deseja pintar, e o script calculará a quantidade de latas de tinta que a pessoa deve comprar e o valor. Considere que cada litro de tinta pinta 3m2, que cada lata contém 18L e que custa R$ 80."
   ]
  },
  {
   "cell_type": "code",
   "execution_count": 11,
   "metadata": {
    "ExecuteTime": {
     "end_time": "2024-01-17T17:13:14.936805300Z",
     "start_time": "2024-01-17T17:13:08.911647200Z"
    }
   },
   "outputs": [
    {
     "name": "stdout",
     "output_type": "stream",
     "text": [
      "Digite a area em metros quadrados: \n",
      "Será necesário de 7 latas, que custará 560.0 reais\n"
     ]
    }
   ],
   "source": [
    "print(\"Digite a area em metros quadrados: \")\n",
    "area = float(input())\n",
    "\n",
    "qntLatas = int(area / 3 / 18);\n",
    "valor = float(qntLatas * 80);\n",
    "print(\"Será necesário de {} latas, que custará {} reais\".format(qntLatas, valor))"
   ]
  },
  {
   "cell_type": "markdown",
   "metadata": {},
   "source": [
    "### Exercício 5\n",
    "Faça um Programa que pergunte quanto você ganha por hora e o número de horas trabalhadas no mês. Calcule e mostre o total do seu salário no referido mês, sabendo-se que são descontados 11% para o Imposto de Renda, 8% para o INSS e 5% para o sindicato, faça um programa que nos dê:\n",
    "1. Salário bruto.\n",
    "2. Quanto pagou ao INSS.\n",
    "3. Quanto pagou ao sindicato.\n",
    "4. O salário líquido."
   ]
  },
  {
   "cell_type": "code",
   "execution_count": 14,
   "metadata": {
    "ExecuteTime": {
     "end_time": "2024-01-17T17:20:09.142978400Z",
     "start_time": "2024-01-17T17:18:54.731845200Z"
    }
   },
   "outputs": [
    {
     "name": "stdout",
     "output_type": "stream",
     "text": [
      "Digite o seu salário hora: \n",
      "Digite a carga horária mensal: \n",
      "Resumo do seu salário:\n",
      " + Bruto: R$4800.00\n",
      " - Inss: R$384.00\n",
      " - IRRF: R$528.00\n",
      " - Sind: R$240.00\n",
      " = Líquido de R$3648.00\n"
     ]
    }
   ],
   "source": [
    "print(\"Digite o seu salário hora: \")\n",
    "sl = float(input())\n",
    "print(\"Digite a carga horária mensal: \")\n",
    "ch = float(input())\n",
    "salarioBruto = sl * ch\n",
    "\n",
    "inss = salarioBruto * 0.08;\n",
    "irrf = salarioBruto * 0.11;\n",
    "sind = salarioBruto * 0.05;\n",
    "\n",
    "salLiquido = salarioBruto - inss - irrf - sind\n",
    "\n",
    "print(\"Resumo do seu salário:\")\n",
    "print(\" + Bruto: R${:.2f}\".format(salarioBruto))\n",
    "print(\" - Inss: R${:.2f}\".format(inss))\n",
    "print(\" - IRRF: R${:.2f}\".format(irrf))\n",
    "print(\" - Sind: R${:.2f}\".format(sind))\n",
    "print(\" = Líquido: R${:.2f}\".format(salLiquido))"
   ]
  }
 ],
 "metadata": {
  "kernelspec": {
   "display_name": "Python 3",
   "language": "python",
   "name": "python3"
  },
  "language_info": {
   "codemirror_mode": {
    "name": "ipython",
    "version": 3
   },
   "file_extension": ".py",
   "mimetype": "text/x-python",
   "name": "python",
   "nbconvert_exporter": "python",
   "pygments_lexer": "ipython3",
   "version": "3.8.8"
  }
 },
 "nbformat": 4,
 "nbformat_minor": 4
}
