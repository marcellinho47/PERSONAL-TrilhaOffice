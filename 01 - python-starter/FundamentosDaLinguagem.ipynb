{
 "cells": [
  {
   "cell_type": "code",
   "execution_count": null,
   "id": "initial_id",
   "metadata": {
    "is_executing": true
   },
   "outputs": [],
   "source": [
    "2 + 2"
   ]
  },
  {
   "cell_type": "code",
   "execution_count": 14,
   "id": "aa9e8d25-9ccd-4ddc-8401-7637992c0b24",
   "metadata": {
    "ExecuteTime": {
     "end_time": "2023-10-23T18:02:38.406487Z",
     "start_time": "2023-10-23T18:02:38.397332100Z"
    }
   },
   "outputs": [
    {
     "data": {
      "text/plain": "4"
     },
     "execution_count": 14,
     "metadata": {},
     "output_type": "execute_result"
    }
   ],
   "source": [
    "2 * 2"
   ]
  },
  {
   "cell_type": "code",
   "execution_count": 15,
   "outputs": [
    {
     "data": {
      "text/plain": "1.0"
     },
     "execution_count": 15,
     "metadata": {},
     "output_type": "execute_result"
    }
   ],
   "source": [
    "2 / 2"
   ],
   "metadata": {
    "collapsed": false,
    "ExecuteTime": {
     "end_time": "2023-10-23T18:02:41.123690100Z",
     "start_time": "2023-10-23T18:02:41.120176400Z"
    }
   },
   "id": "54d44bae217b941e"
  },
  {
   "cell_type": "code",
   "execution_count": null,
   "outputs": [],
   "source": [
    "2 - 2 "
   ],
   "metadata": {
    "collapsed": false,
    "is_executing": true
   },
   "id": "dc5db951fc75a6ab"
  },
  {
   "cell_type": "code",
   "outputs": [],
   "source": [
    "### Exercício 1\n",
    "print(\"Digite seu peso em KG: \")\n",
    "peso = float(input())\n",
    "print(\"Digite sua altura em M: \")\n",
    "altura = float(input())\n",
    "\n",
    "imc = peso / altura ** 2\n",
    "\n",
    "print(\"Seu IMC é: {:.2f}\".format(imc))"
   ],
   "metadata": {
    "collapsed": false
   },
   "id": "8d428fd1ae81e9f1",
   "execution_count": null
  }
 ],
 "metadata": {
  "kernelspec": {
   "display_name": "Python 3 (ipykernel)",
   "language": "python",
   "name": "python3"
  },
  "language_info": {
   "codemirror_mode": {
    "name": "ipython",
    "version": 3
   },
   "file_extension": ".py",
   "mimetype": "text/x-python",
   "name": "python",
   "nbconvert_exporter": "python",
   "pygments_lexer": "ipython3",
   "version": "3.12.0"
  }
 },
 "nbformat": 4,
 "nbformat_minor": 5
}
